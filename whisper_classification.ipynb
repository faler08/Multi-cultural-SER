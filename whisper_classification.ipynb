{
 "cells": [
  {
   "cell_type": "markdown",
   "id": "000f11af",
   "metadata": {},
   "source": [
    "# Whisper Implementation"
   ]
  },
  {
   "cell_type": "markdown",
   "id": "7986edc2",
   "metadata": {},
   "source": [
    "In this notebook we will implement a Encoder + Classification Head structure. The idea is to extract the encoder's hidden states and then feed them to a linear classification layer that, hopefully, will give us the correct label."
   ]
  },
  {
   "cell_type": "code",
   "execution_count": 1,
   "id": "75713b44",
   "metadata": {},
   "outputs": [
    {
     "name": "stderr",
     "output_type": "stream",
     "text": [
      "c:\\Users\\faler\\anaconda3\\envs\\tfm_audio\\lib\\site-packages\\tqdm\\auto.py:21: TqdmWarning: IProgress not found. Please update jupyter and ipywidgets. See https://ipywidgets.readthedocs.io/en/stable/user_install.html\n",
      "  from .autonotebook import tqdm as notebook_tqdm\n"
     ]
    }
   ],
   "source": [
    "import torch\n",
    "import librosa\n",
    "import numpy as np\n",
    "import pandas as pd\n",
    "from datasets import Dataset, DatasetDict, Audio\n",
    "import evaluate\n",
    "from transformers import WhisperFeatureExtractor, WhisperModel, Trainer, TrainingArguments\n",
    "from audiomentations import Compose, AddGaussianNoise, TimeStretch, PitchShift\n",
    "from torch import nn\n",
    "from sklearn.metrics import confusion_matrix, classification_report\n",
    "import matplotlib.pyplot as plt\n",
    "import seaborn as sns\n",
    "import torch.nn.functional as F\n",
    "import json\n",
    "\n",
    "SEED = 2706"
   ]
  },
  {
   "cell_type": "markdown",
   "id": "727e3fb2",
   "metadata": {},
   "source": [
    "After loading the modules we will need, we prepare the data to be preprocessed. In order to get comparable results with the other models, we have to leave out 'Calm' and 'Surprise' emotions. Besides, since we are going to do data augmentation and use a Hugging Face model, we have to prepare a datasets' Dataset, as well as splitting it beforehand."
   ]
  },
  {
   "cell_type": "code",
   "execution_count": 2,
   "id": "7ad3764c",
   "metadata": {},
   "outputs": [],
   "source": [
    "# ==========================\n",
    "# Inicial config\n",
    "# ==========================\n",
    "MODEL_ID = \"openai/whisper-large-v3-turbo\"\n",
    "CSV_PATH = \"./audio_data/complete_metadata.csv\"   # Paths & labels\n",
    "AUDIO_COL = \"Path\"\n",
    "LABEL_COL = \"Emotion\"\n",
    "\n",
    "sr = 16000 # Required for the trained Whisper model\n",
    "\n",
    "audios = pd.read_csv(CSV_PATH)\n",
    "audios = audios[~((audios[LABEL_COL] == 'Calm') | (audios[LABEL_COL] == 'Surprised'))]\n",
    "audios = audios.rename(mapper={'Path': 'file', 'Emotion':'labels'}, axis=1).drop(columns=['Dataset', 'Sex', 'Emotional_level'])\n",
    "\n",
    "dataset = Dataset.from_pandas(audios)\n",
    "dataset = dataset.train_test_split(test_size=0.25, seed=SEED)"
   ]
  },
  {
   "cell_type": "code",
   "execution_count": 3,
   "id": "f111ffab",
   "metadata": {},
   "outputs": [
    {
     "name": "stdout",
     "output_type": "stream",
     "text": [
      "cuda\n"
     ]
    }
   ],
   "source": [
    "# ==========================\n",
    "# Whisper Encoder\n",
    "# ==========================\n",
    "device = \"cuda\" if torch.cuda.is_available() else \"cpu\"\n",
    "print(device)\n",
    "feature_extractor = WhisperFeatureExtractor.from_pretrained(MODEL_ID)\n",
    "whisper_model = WhisperModel.from_pretrained(MODEL_ID).to(device)"
   ]
  },
  {
   "cell_type": "markdown",
   "id": "919261b5",
   "metadata": {},
   "source": [
    "## Data extraction"
   ]
  },
  {
   "cell_type": "markdown",
   "id": "cc67de3f",
   "metadata": {},
   "source": [
    "Now we face the task of extracting the embeddings from the encoder. To get enough data for the classification head, we will perform 2 augmentations for each original row. We have to be careful here also to not induce any data leakage. Thus, we divide the preprocessing into two cases: train or test split. The way we preprocess the data itself is the same, but in the train function there is included a code to augment data."
   ]
  },
  {
   "cell_type": "code",
   "execution_count": 4,
   "id": "4687d930",
   "metadata": {},
   "outputs": [
    {
     "name": "stderr",
     "output_type": "stream",
     "text": [
      "Map:   0%|          | 0/7146 [00:00<?, ? examples/s]c:\\Users\\faler\\anaconda3\\envs\\tfm_audio\\lib\\site-packages\\transformers\\integrations\\sdpa_attention.py:89: UserWarning: 1Torch was not compiled with flash attention. (Triggered internally at ..\\aten\\src\\ATen\\native\\transformers\\cuda\\sdp_utils.cpp:263.)\n",
      "  attn_output = torch.nn.functional.scaled_dot_product_attention(\n",
      "Map: 100%|██████████| 7146/7146 [1:44:06<00:00,  1.14 examples/s]\n",
      "Map: 100%|██████████| 2382/2382 [16:39<00:00,  2.38 examples/s]\n"
     ]
    }
   ],
   "source": [
    "# ============\n",
    "# Augmentations\n",
    "# ============\n",
    "augment = Compose([\n",
    "    AddGaussianNoise(min_amplitude=0.001, max_amplitude=0.015, p=0.5),\n",
    "    TimeStretch(min_rate=0.9, max_rate=1.1, p=0.5),\n",
    "    PitchShift(min_semitones=-2, max_semitones=2, p=0.5),\n",
    "])\n",
    "\n",
    "# ============\n",
    "# Embedding extractor (batch)\n",
    "# ============\n",
    "def extract_embeddings_batch(waveforms: list[np.ndarray], sr: int) -> np.ndarray:\n",
    "    \"\"\"\n",
    "    Extract embeddings for a batch of audio waveforms using a Whisper encoder.\n",
    "\n",
    "    Each waveform is transformed into log-Mel spectrogram features, padded\n",
    "    or trimmed to the expected input length for Whisper, and then passed\n",
    "    through the encoder to produce embeddings.\n",
    "\n",
    "    Args:\n",
    "        waveforms: List of audio signals as NumPy arrays.\n",
    "        sr: Sampling rate of the input signals.\n",
    "\n",
    "    Returns:\n",
    "        np.ndarray: Batch of embeddings with shape [batch_size, embedding_dim].\n",
    "    \"\"\"\n",
    "    # Convert waveforms into Whisper log-Mel features\n",
    "    inputs = feature_extractor(\n",
    "        waveforms,\n",
    "        sampling_rate=sr,\n",
    "        return_tensors=\"pt\"\n",
    "    ).to(device)\n",
    "\n",
    "    feats = inputs.input_features  # Shape: [B, n_mels, T]\n",
    "    B, n_mels, T = feats.shape\n",
    "\n",
    "    # Adjust sequence length to Whisper's expected size (3000 frames)\n",
    "    if T < 3000:\n",
    "        pad_size = 3000 - T\n",
    "        feats = F.pad(feats, (0, pad_size), mode=\"constant\", value=0.0)\n",
    "    elif T > 3000:\n",
    "        feats = feats[:, :, :3000]\n",
    "\n",
    "    # Extract embeddings using the encoder\n",
    "    with torch.no_grad():\n",
    "        encoder_outputs = whisper_model.encoder(feats)\n",
    "        hidden_states = encoder_outputs.last_hidden_state  # [B, T, D]\n",
    "\n",
    "        # Mean-pool across the time dimension\n",
    "        embeddings = hidden_states.mean(dim=1)  # [B, D]\n",
    "\n",
    "    return embeddings.cpu().numpy()\n",
    "\n",
    "# ============\n",
    "# Train preprocessing\n",
    "# ============\n",
    "def preprocess_train(batch: dict, n_augment: int = 2) -> dict:\n",
    "    \"\"\"\n",
    "    Preprocess a batch of audio files for training.\n",
    "\n",
    "    For each audio file in the batch:\n",
    "        - Load waveform at the target sampling rate.\n",
    "        - Apply augmentation `n_augment` times.\n",
    "        - Collect augmented waveforms and labels.\n",
    "    Finally, embeddings are extracted for the augmented waveforms.\n",
    "\n",
    "    Args:\n",
    "        batch: Dictionary with keys:\n",
    "            - \"file\": List of file paths to audio files.\n",
    "            - \"labels\": List of corresponding labels.\n",
    "        n_augment: Number of augmentations to generate per file (default is 2).\n",
    "\n",
    "    Returns:\n",
    "        dict: Dictionary with keys:\n",
    "            - \"embedding\": NumPy array of embeddings for augmented waveforms.\n",
    "            - \"labels\": List of labels matching the augmented waveforms.\n",
    "    \"\"\"\n",
    "    waveforms = []\n",
    "    labels = []\n",
    "\n",
    "    for file, label in zip(batch[\"file\"], batch[\"labels\"]):\n",
    "        # Load audio at target sampling rate\n",
    "        waveform, _ = librosa.load(file, sr=sr)\n",
    "\n",
    "        # Apply augmentations multiple times\n",
    "        for _ in range(n_augment):\n",
    "            aug_waveform = augment(samples=waveform, sample_rate=sr).astype(np.float32)\n",
    "            waveforms.append(aug_waveform)\n",
    "            labels.append(label)\n",
    "\n",
    "    # Extract embeddings for augmented waveforms\n",
    "    embeddings = extract_embeddings_batch(waveforms, sr)\n",
    "\n",
    "    return {\"embedding\": embeddings, \"labels\": labels}\n",
    "\n",
    "# ============\n",
    "# Eval preprocessing\n",
    "# ============\n",
    "def preprocess_eval(batch: dict) -> dict:\n",
    "    \"\"\"\n",
    "    Preprocess a batch of audio files for evaluation.\n",
    "\n",
    "    For each audio file in the batch:\n",
    "        - Load waveform at the target sampling rate.\n",
    "        - Collect waveforms and labels.\n",
    "    Finally, embeddings are extracted for the waveforms.\n",
    "\n",
    "    Args:\n",
    "        batch: Dictionary with keys:\n",
    "            - \"file\": List of file paths to audio files.\n",
    "            - \"labels\": List of corresponding labels.\n",
    "\n",
    "    Returns:\n",
    "        dict: Dictionary with keys:\n",
    "            - \"embedding\": NumPy array of embeddings for the waveforms.\n",
    "            - \"labels\": List of labels corresponding to the waveforms.\n",
    "    \"\"\"\n",
    "    waveforms = []\n",
    "    labels = []\n",
    "\n",
    "    for file, label in zip(batch[\"file\"], batch[\"labels\"]):\n",
    "        # Load audio at target sampling rate\n",
    "        waveform, _ = librosa.load(file, sr=sr)\n",
    "        waveforms.append(waveform)\n",
    "        labels.append(label)\n",
    "\n",
    "    # Extract embeddings for evaluation waveforms\n",
    "    embeddings = extract_embeddings_batch(waveforms, sr)\n",
    "\n",
    "    return {\"embedding\": embeddings, \"labels\": labels}\n",
    "\n",
    "# ============\n",
    "# Resulting datasets\n",
    "# ============\n",
    "train_dataset = dataset[\"train\"].map(\n",
    "    preprocess_train,\n",
    "    batched=True,      \n",
    "    batch_size=8,      \n",
    "    remove_columns=dataset[\"train\"].column_names\n",
    ")\n",
    "\n",
    "eval_dataset = dataset[\"test\"].map(\n",
    "    preprocess_eval,\n",
    "    batched=True,\n",
    "    batch_size=8,\n",
    "    remove_columns=dataset[\"test\"].column_names\n",
    ")"
   ]
  },
  {
   "cell_type": "markdown",
   "id": "87af1ca3",
   "metadata": {},
   "source": [
    "After having extracted all the data, we prepare them for the train phase. We flatten the train dataset in order to have just one embedding per iteration (with the augmentation we have to unwind it). Furthermore, the target labels are turned into integers so they work well with the Head."
   ]
  },
  {
   "cell_type": "code",
   "execution_count": 5,
   "id": "08b2a93f",
   "metadata": {},
   "outputs": [
    {
     "name": "stderr",
     "output_type": "stream",
     "text": [
      "Map: 100%|██████████| 14292/14292 [00:00<00:00, 44468.36 examples/s]\n",
      "Map: 100%|██████████| 2382/2382 [00:00<00:00, 43472.04 examples/s]\n"
     ]
    }
   ],
   "source": [
    "# Flatten the train dataset\n",
    "all_embeddings = []\n",
    "all_labels = []\n",
    "\n",
    "for example in train_dataset:\n",
    "    for emb, lab in zip(example[\"embedding\"], example[\"labels\"]):\n",
    "        all_embeddings.append(emb)\n",
    "        all_labels.append(lab)\n",
    "\n",
    "# To avoid confusion, create new dataset (fixed)\n",
    "train_dataset_flat = Dataset.from_dict({\n",
    "    \"embedding\": all_embeddings,\n",
    "    \"labels\": all_labels\n",
    "})\n",
    "\n",
    "# ============\n",
    "# LABEL ENCODING\n",
    "# ============\n",
    "# Dictionaries that work in a similar fashion to ClassLabel\n",
    "unique_labels = list(set(dataset[\"train\"][\"labels\"]))\n",
    "label2id = {label: i for i, label in enumerate(unique_labels)}\n",
    "id2label = {i: label for label, i in label2id.items()}\n",
    "\n",
    "train_dataset_flat = train_dataset.map(lambda x: {\"labels\": label2id[x[\"labels\"]]})\n",
    "eval_dataset = eval_dataset.map(lambda x: {\"labels\": label2id[x[\"labels\"]]})"
   ]
  },
  {
   "cell_type": "markdown",
   "id": "908f9d5b",
   "metadata": {},
   "source": [
    "To avoid confusion in the model with the keys of the datasets, we change the name of the inputs."
   ]
  },
  {
   "cell_type": "code",
   "execution_count": 6,
   "id": "ee3c59e0",
   "metadata": {},
   "outputs": [],
   "source": [
    "final_dataset = DatasetDict({\"train\": train_dataset_flat, \"test\": eval_dataset})\n",
    "final_dataset = final_dataset.rename_column(\"embedding\", \"input_ids\")"
   ]
  },
  {
   "cell_type": "markdown",
   "id": "499b569d",
   "metadata": {},
   "source": [
    "And save it to avoid the time of extracting all rows in the case of exploring new alternatives."
   ]
  },
  {
   "cell_type": "code",
   "execution_count": 7,
   "id": "57b36a39",
   "metadata": {},
   "outputs": [
    {
     "name": "stderr",
     "output_type": "stream",
     "text": [
      "Saving the dataset (1/1 shards): 100%|██████████| 14292/14292 [00:00<00:00, 488330.36 examples/s]\n",
      "Saving the dataset (1/1 shards): 100%|██████████| 2382/2382 [00:00<00:00, 326146.06 examples/s]\n"
     ]
    }
   ],
   "source": [
    "final_dataset.save_to_disk(\"./features/whisper_data\")"
   ]
  },
  {
   "cell_type": "markdown",
   "id": "713b8238",
   "metadata": {},
   "source": [
    "## Linear Classifier"
   ]
  },
  {
   "cell_type": "markdown",
   "id": "1b523150",
   "metadata": {},
   "source": [
    "Although there are more complex classification heads, for our task a linear layer actually avoid over-fitting and improves general accuracy of the model. The configuration is fairly simple and since Whisper's weights are fixed, it is in reality a Logistic Regression."
   ]
  },
  {
   "cell_type": "code",
   "execution_count": 8,
   "id": "1eb36bbd",
   "metadata": {},
   "outputs": [],
   "source": [
    "# ==========================\n",
    "# Classifier Head\n",
    "# ==========================\n",
    "input_dim = whisper_model.config.d_model  # For whisper-large-v3-turbo is approx 1200\n",
    "\n",
    "class ClassifierHead(nn.Module):\n",
    "    \"\"\"\n",
    "    A simple feedforward classification head.\n",
    "\n",
    "    Consists of:\n",
    "        - Linear layer projecting from input_dim to hidden_dim.\n",
    "        - ReLU activation.\n",
    "        - Dropout layer.\n",
    "        - Linear layer projecting to num_labels.\n",
    "\n",
    "    Args:\n",
    "        input_dim: Dimension of the input embeddings.\n",
    "        num_labels: Number of output classes.\n",
    "        hidden_dim: Dimension of the hidden layer (default is 512).\n",
    "        dropout: Dropout probability (default is 0.3).\n",
    "    \"\"\"\n",
    "\n",
    "    def __init__(self, input_dim: int, num_labels: int, hidden_dim: int = 512, dropout: float = 0.3) -> None:\n",
    "        super().__init__()\n",
    "        self.net = nn.Sequential(\n",
    "            nn.Linear(input_dim, hidden_dim),\n",
    "            nn.ReLU(),\n",
    "            nn.Dropout(dropout),\n",
    "            nn.Linear(hidden_dim, num_labels),\n",
    "        )\n",
    "\n",
    "    def forward(\n",
    "        self, input_ids: torch.Tensor, labels: torch.Tensor | None = None\n",
    "    ) -> dict[str, torch.Tensor | None]:\n",
    "        \"\"\"\n",
    "        Forward pass through the classifier.\n",
    "\n",
    "        Args:\n",
    "            input_ids: Input tensor of shape [batch_size, input_dim].\n",
    "            labels: Optional ground-truth labels of shape [batch_size].\n",
    "\n",
    "        Returns:\n",
    "            dict: A dictionary containing:\n",
    "                - \"loss\": Cross-entropy loss (if labels are provided), else None.\n",
    "                - \"logits\": Output logits of shape [batch_size, num_labels].\n",
    "        \"\"\"\n",
    "        # Compute logits from the network\n",
    "        logits = self.net(input_ids)\n",
    "\n",
    "        # Compute loss if labels are provided\n",
    "        loss = None\n",
    "        if labels is not None:\n",
    "            loss = nn.CrossEntropyLoss()(logits, labels)\n",
    "\n",
    "        return {\"loss\": loss, \"logits\": logits}\n",
    "\n",
    "    \n",
    "model = ClassifierHead(input_dim=input_dim, num_labels=len(unique_labels))"
   ]
  },
  {
   "cell_type": "markdown",
   "id": "a24c5640",
   "metadata": {},
   "source": [
    "We also have to define a data collator, which helps ease the training phase. "
   ]
  },
  {
   "cell_type": "code",
   "execution_count": 9,
   "id": "9098e7a9",
   "metadata": {},
   "outputs": [],
   "source": [
    "# ==========================\n",
    "# Collator\n",
    "# ==========================\n",
    "def collate_fn(batch: list[dict]) -> dict[str, torch.Tensor]:\n",
    "    \"\"\"\n",
    "    Collate function for preparing batches in a PyTorch DataLoader.\n",
    "\n",
    "    Converts a list of examples into a batch with tensors for input\n",
    "    embeddings and labels.\n",
    "\n",
    "    Args:\n",
    "        batch: List of dictionaries, each containing:\n",
    "            - \"input_ids\": Input features as a NumPy array or list.\n",
    "            - \"labels\": Corresponding label as an integer.\n",
    "\n",
    "    Returns:\n",
    "        dict: A dictionary containing:\n",
    "            - \"input_ids\": Float tensor of shape [batch_size, feature_dim].\n",
    "            - \"labels\": Long tensor of shape [batch_size].\n",
    "    \"\"\"\n",
    "    # Stack input features into a float tensor\n",
    "    embeddings = torch.stack([\n",
    "        torch.tensor(ex[\"input_ids\"], dtype=torch.float32) for ex in batch\n",
    "    ])\n",
    "\n",
    "    # Stack labels into a long tensor\n",
    "    labels = torch.tensor([ex[\"labels\"] for ex in batch], dtype=torch.long)\n",
    "\n",
    "    return {\"input_ids\": embeddings, \"labels\": labels}\n"
   ]
  },
  {
   "cell_type": "markdown",
   "id": "2171f859",
   "metadata": {},
   "source": [
    "We also need a way to evaluate the performance of the model. We will focus on accuracy, since it is our common metrics across all models, and on F1-score, since it demonstrates in a simple how well we are performing in general terms."
   ]
  },
  {
   "cell_type": "code",
   "execution_count": 10,
   "id": "918c6f85",
   "metadata": {},
   "outputs": [],
   "source": [
    "# ==========================\n",
    "# Metrics\n",
    "# ==========================\n",
    "metric_acc = evaluate.load(\"accuracy\")\n",
    "metric_f1 = evaluate.load(\"f1\")\n",
    "\n",
    "def compute_metrics(eval_pred: tuple[np.ndarray, np.ndarray]) -> dict[str, float]:\n",
    "    \"\"\"\n",
    "    Compute evaluation metrics for model predictions.\n",
    "\n",
    "    Metrics:\n",
    "        - Accuracy\n",
    "        - Weighted F1 score\n",
    "\n",
    "    Args:\n",
    "        eval_pred: Tuple containing:\n",
    "            - logits: NumPy array of shape [num_samples, num_classes].\n",
    "            - labels: NumPy array of shape [num_samples].\n",
    "\n",
    "    Returns:\n",
    "        dict: A dictionary with:\n",
    "            - \"accuracy\": Accuracy score.\n",
    "            - \"f1\": Weighted F1 score.\n",
    "    \"\"\"\n",
    "    logits, labels = eval_pred\n",
    "\n",
    "    # Get predicted class indices from logits\n",
    "    preds = np.argmax(logits, axis=-1)\n",
    "\n",
    "    # Compute accuracy and F1 score\n",
    "    return {\n",
    "        \"accuracy\": metric_acc.compute(\n",
    "            predictions=preds, references=labels\n",
    "        )[\"accuracy\"],\n",
    "        \"f1\": metric_f1.compute(\n",
    "            predictions=preds, references=labels, average=\"weighted\"\n",
    "        )[\"f1\"],\n",
    "    }"
   ]
  },
  {
   "cell_type": "markdown",
   "id": "6aa4e448",
   "metadata": {},
   "source": [
    "## Training"
   ]
  },
  {
   "cell_type": "markdown",
   "id": "342d3a98",
   "metadata": {},
   "source": [
    "Now we are against the critical part of the notebook: the training. We will use all functions defined above and tune some parameters using the Trainer and TrainingArguments functions from _transformers_."
   ]
  },
  {
   "cell_type": "code",
   "execution_count": 11,
   "id": "eb8dd193",
   "metadata": {},
   "outputs": [],
   "source": [
    "# ==========================\n",
    "# Trainer & Training Arguments\n",
    "# ==========================\n",
    "training_args = TrainingArguments(\n",
    "    output_dir=\"./whisper-results\",\n",
    "    eval_strategy=\"epoch\",                # Evaluate performance at each epoch\n",
    "    save_strategy=\"epoch\",                # Save the checkpoints in case it worsens\n",
    "    save_total_limit=3,                   # Avoid filling up the memory\n",
    "    learning_rate=1e-3,                   # Suggested starting point for LR\n",
    "    per_device_train_batch_size=32,       \n",
    "    per_device_eval_batch_size=32,\n",
    "    num_train_epochs=20,     \n",
    "    weight_decay=0.01,                    # Light regularisation\n",
    "    logging_steps=50,                     # Monitor loss each 50 steps\n",
    "    load_best_model_at_end=True,          # Load the best model when training is finished\n",
    "    metric_for_best_model=\"f1\",           # F1-score to ensure equilibrium\n",
    "    greater_is_better=True,\n",
    "    report_to=\"none\",                     # Avoids unnecesary loggins\n",
    "    gradient_accumulation_steps=1,        # Accumulate gradient with small batches\n",
    "    fp16=False,                           # GPU accelation (works with my GPU)\n",
    "    seed=SEED                             # Ensure reproducibility\n",
    ")\n",
    "\n",
    "\n",
    "trainer = Trainer(\n",
    "    model=model,\n",
    "    args=training_args,\n",
    "    train_dataset=final_dataset[\"train\"],\n",
    "    eval_dataset=final_dataset[\"test\"],\n",
    "    data_collator=collate_fn,\n",
    "    compute_metrics=compute_metrics,\n",
    ")"
   ]
  },
  {
   "cell_type": "code",
   "execution_count": 12,
   "id": "457680cb",
   "metadata": {},
   "outputs": [
    {
     "data": {
      "text/html": [
       "\n",
       "    <div>\n",
       "      \n",
       "      <progress value='8940' max='8940' style='width:300px; height:20px; vertical-align: middle;'></progress>\n",
       "      [8940/8940 05:29, Epoch 20/20]\n",
       "    </div>\n",
       "    <table border=\"1\" class=\"dataframe\">\n",
       "  <thead>\n",
       " <tr style=\"text-align: left;\">\n",
       "      <th>Epoch</th>\n",
       "      <th>Training Loss</th>\n",
       "      <th>Validation Loss</th>\n",
       "      <th>Accuracy</th>\n",
       "      <th>F1</th>\n",
       "    </tr>\n",
       "  </thead>\n",
       "  <tbody>\n",
       "    <tr>\n",
       "      <td>1</td>\n",
       "      <td>1.292500</td>\n",
       "      <td>1.250053</td>\n",
       "      <td>0.544500</td>\n",
       "      <td>0.521011</td>\n",
       "    </tr>\n",
       "    <tr>\n",
       "      <td>2</td>\n",
       "      <td>1.114500</td>\n",
       "      <td>1.060358</td>\n",
       "      <td>0.615029</td>\n",
       "      <td>0.607051</td>\n",
       "    </tr>\n",
       "    <tr>\n",
       "      <td>3</td>\n",
       "      <td>1.017900</td>\n",
       "      <td>0.966675</td>\n",
       "      <td>0.646516</td>\n",
       "      <td>0.636256</td>\n",
       "    </tr>\n",
       "    <tr>\n",
       "      <td>4</td>\n",
       "      <td>0.967500</td>\n",
       "      <td>0.892360</td>\n",
       "      <td>0.670025</td>\n",
       "      <td>0.665485</td>\n",
       "    </tr>\n",
       "    <tr>\n",
       "      <td>5</td>\n",
       "      <td>0.884000</td>\n",
       "      <td>0.858577</td>\n",
       "      <td>0.685139</td>\n",
       "      <td>0.681824</td>\n",
       "    </tr>\n",
       "    <tr>\n",
       "      <td>6</td>\n",
       "      <td>0.858100</td>\n",
       "      <td>0.833470</td>\n",
       "      <td>0.692275</td>\n",
       "      <td>0.685917</td>\n",
       "    </tr>\n",
       "    <tr>\n",
       "      <td>7</td>\n",
       "      <td>0.909000</td>\n",
       "      <td>0.795615</td>\n",
       "      <td>0.709068</td>\n",
       "      <td>0.705698</td>\n",
       "    </tr>\n",
       "    <tr>\n",
       "      <td>8</td>\n",
       "      <td>0.842900</td>\n",
       "      <td>0.797558</td>\n",
       "      <td>0.713686</td>\n",
       "      <td>0.709717</td>\n",
       "    </tr>\n",
       "    <tr>\n",
       "      <td>9</td>\n",
       "      <td>0.839000</td>\n",
       "      <td>0.765683</td>\n",
       "      <td>0.725021</td>\n",
       "      <td>0.723606</td>\n",
       "    </tr>\n",
       "    <tr>\n",
       "      <td>10</td>\n",
       "      <td>0.814700</td>\n",
       "      <td>0.775345</td>\n",
       "      <td>0.714526</td>\n",
       "      <td>0.717633</td>\n",
       "    </tr>\n",
       "    <tr>\n",
       "      <td>11</td>\n",
       "      <td>0.803400</td>\n",
       "      <td>0.780387</td>\n",
       "      <td>0.712007</td>\n",
       "      <td>0.708935</td>\n",
       "    </tr>\n",
       "    <tr>\n",
       "      <td>12</td>\n",
       "      <td>0.732800</td>\n",
       "      <td>0.752085</td>\n",
       "      <td>0.725021</td>\n",
       "      <td>0.721593</td>\n",
       "    </tr>\n",
       "    <tr>\n",
       "      <td>13</td>\n",
       "      <td>0.793800</td>\n",
       "      <td>0.751673</td>\n",
       "      <td>0.718724</td>\n",
       "      <td>0.720149</td>\n",
       "    </tr>\n",
       "    <tr>\n",
       "      <td>14</td>\n",
       "      <td>0.772000</td>\n",
       "      <td>0.744663</td>\n",
       "      <td>0.725861</td>\n",
       "      <td>0.722753</td>\n",
       "    </tr>\n",
       "    <tr>\n",
       "      <td>15</td>\n",
       "      <td>0.749900</td>\n",
       "      <td>0.729003</td>\n",
       "      <td>0.732997</td>\n",
       "      <td>0.731255</td>\n",
       "    </tr>\n",
       "    <tr>\n",
       "      <td>16</td>\n",
       "      <td>0.780600</td>\n",
       "      <td>0.740636</td>\n",
       "      <td>0.725861</td>\n",
       "      <td>0.722187</td>\n",
       "    </tr>\n",
       "    <tr>\n",
       "      <td>17</td>\n",
       "      <td>0.740300</td>\n",
       "      <td>0.727134</td>\n",
       "      <td>0.728380</td>\n",
       "      <td>0.726519</td>\n",
       "    </tr>\n",
       "    <tr>\n",
       "      <td>18</td>\n",
       "      <td>0.742600</td>\n",
       "      <td>0.714891</td>\n",
       "      <td>0.730059</td>\n",
       "      <td>0.728484</td>\n",
       "    </tr>\n",
       "    <tr>\n",
       "      <td>19</td>\n",
       "      <td>0.693300</td>\n",
       "      <td>0.716289</td>\n",
       "      <td>0.735936</td>\n",
       "      <td>0.734945</td>\n",
       "    </tr>\n",
       "    <tr>\n",
       "      <td>20</td>\n",
       "      <td>0.735700</td>\n",
       "      <td>0.716152</td>\n",
       "      <td>0.732578</td>\n",
       "      <td>0.730851</td>\n",
       "    </tr>\n",
       "  </tbody>\n",
       "</table><p>"
      ],
      "text/plain": [
       "<IPython.core.display.HTML object>"
      ]
     },
     "metadata": {},
     "output_type": "display_data"
    },
    {
     "data": {
      "text/plain": [
       "TrainOutput(global_step=8940, training_loss=0.8719944138921614, metrics={'train_runtime': 329.4824, 'train_samples_per_second': 867.542, 'train_steps_per_second': 27.133, 'total_flos': 0.0, 'train_loss': 0.8719944138921614, 'epoch': 20.0})"
      ]
     },
     "execution_count": 12,
     "metadata": {},
     "output_type": "execute_result"
    }
   ],
   "source": [
    "trainer.train()"
   ]
  },
  {
   "cell_type": "markdown",
   "id": "98800fb4",
   "metadata": {},
   "source": [
    "We save now the checkpoints and proceed to analyse the training results."
   ]
  },
  {
   "cell_type": "code",
   "execution_count": null,
   "id": "62fab716",
   "metadata": {},
   "outputs": [],
   "source": [
    "# Save model\n",
    "trainer.save_model(\"./models/whisper_model\")\n",
    "torch.save(model.state_dict(), \"./models/whisper_classifier_head.pth\") # I forgot the dot in the directory, thus the jump in cell executions\n",
    "\n",
    "config = {\n",
    "    \"input_dim\": input_dim,\n",
    "    \"num_labels\": len(unique_labels),\n",
    "    \"hidden_dim\": 512,\n",
    "    \"dropout\": 0.3,\n",
    "    \"labels\": unique_labels\n",
    "}\n",
    "\n",
    "with open(\"models/whisper_classifier_config.json\", \"w\") as f:\n",
    "    json.dump(config, f)"
   ]
  },
  {
   "cell_type": "markdown",
   "id": "e8f7880c",
   "metadata": {},
   "source": [
    "We check all evaluations we have performed in other models, to have a direct comparison."
   ]
  },
  {
   "cell_type": "code",
   "execution_count": 16,
   "id": "44f74969",
   "metadata": {},
   "outputs": [
    {
     "data": {
      "text/html": [],
      "text/plain": [
       "<IPython.core.display.HTML object>"
      ]
     },
     "metadata": {},
     "output_type": "display_data"
    },
    {
     "name": "stdout",
     "output_type": "stream",
     "text": [
      "              precision    recall  f1-score   support\n",
      "\n",
      "     Disgust       0.73      0.65      0.68       388\n",
      "       Happy       0.75      0.79      0.77       405\n",
      "     Fearful       0.68      0.67      0.67       391\n",
      "         Sad       0.67      0.67      0.67       442\n",
      "       Angry       0.82      0.83      0.82       426\n",
      "     Neutral       0.78      0.82      0.80       330\n",
      "\n",
      "    accuracy                           0.74      2382\n",
      "   macro avg       0.74      0.74      0.74      2382\n",
      "weighted avg       0.74      0.74      0.73      2382\n",
      "\n"
     ]
    },
    {
     "data": {
      "image/png": "[encoded data removed]",
      "text/plain": [
       "<Figure size 600x500 with 2 Axes>"
      ]
     },
     "metadata": {},
     "output_type": "display_data"
    }
   ],
   "source": [
    "# ==========================\n",
    "# Confusion matrix & Classification report\n",
    "# ==========================\n",
    "preds = trainer.predict(final_dataset[\"test\"])\n",
    "y_true = preds.label_ids\n",
    "y_pred = np.argmax(preds.predictions, axis=1)\n",
    "\n",
    "# Classification report\n",
    "print(classification_report(y_true, y_pred, target_names=[id2label[i] for i in range(len(id2label))]))\n",
    "\n",
    "# Confusion matrix\n",
    "cm = confusion_matrix(y_true, y_pred)\n",
    "# Plot\n",
    "plt.figure(figsize=(6, 5))\n",
    "sns.heatmap(\n",
    "    cm,\n",
    "    annot=True,\n",
    "    fmt=\"d\",\n",
    "    cmap=\"Greys\",\n",
    "    xticklabels=[id2label[i] for i in range(len(id2label))],\n",
    "    yticklabels=[id2label[i] for i in range(len(id2label))]\n",
    ")\n",
    "plt.xlabel(\"Predicted\")\n",
    "plt.ylabel(\"True\")\n",
    "plt.title(\"Confusion Matrix\")\n",
    "plt.show()"
   ]
  },
  {
   "cell_type": "markdown",
   "id": "fd7ee874",
   "metadata": {},
   "source": [
    "What we see here is an acceptable model that performs accordingly in all classes, with deviation when having to deal with emotions with a similar intensity, as it is the case with 'Fearful' and 'Sad'. For a more detailed analysis, I suggest reading the memoir of the project."
   ]
  }
 ],
 "metadata": {
  "kernelspec": {
   "display_name": "tfm_audio",
   "language": "python",
   "name": "python3"
  },
  "language_info": {
   "codemirror_mode": {
    "name": "ipython",
    "version": 3
   },
   "file_extension": ".py",
   "mimetype": "text/x-python",
   "name": "python",
   "nbconvert_exporter": "python",
   "pygments_lexer": "ipython3",
   "version": "3.10.18"
  }
 },
 "nbformat": 4,
 "nbformat_minor": 5
}
