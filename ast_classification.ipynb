{
 "cells": [
  {
   "cell_type": "markdown",
   "id": "3df6939b",
   "metadata": {},
   "source": [
    "# AST Fine Tuning"
   ]
  },
  {
   "cell_type": "markdown",
   "id": "64c564f9",
   "metadata": {},
   "source": [
    "An aproach to AST. Although this model was not originally designed for Audio Classification, we can adapt it for the task."
   ]
  },
  {
   "cell_type": "code",
   "execution_count": 1,
   "id": "2b0df9cd",
   "metadata": {},
   "outputs": [
    {
     "name": "stderr",
     "output_type": "stream",
     "text": [
      "c:\\Users\\faler\\anaconda3\\envs\\tfm_audio\\lib\\site-packages\\tqdm\\auto.py:21: TqdmWarning: IProgress not found. Please update jupyter and ipywidgets. See https://ipywidgets.readthedocs.io/en/stable/user_install.html\n",
      "  from .autonotebook import tqdm as notebook_tqdm\n"
     ]
    }
   ],
   "source": [
    "import torch\n",
    "import torch.nn as nn\n",
    "import torchaudio\n",
    "import torchaudio.transforms as T\n",
    "import pandas as pd\n",
    "import numpy as np\n",
    "import os\n",
    "import matplotlib.pyplot as plt\n",
    "import seaborn as sns\n",
    "\n",
    "from datasets import Dataset, DatasetDict, Audio, ClassLabel\n",
    "from sklearn.model_selection import train_test_split\n",
    "from sklearn.metrics import accuracy_score, f1_score, confusion_matrix, classification_report\n",
    "from transformers import AutoFeatureExtractor, ASTForAudioClassification, TrainingArguments, Trainer\n",
    "\n",
    "SEED = 2706"
   ]
  },
  {
   "cell_type": "code",
   "execution_count": 2,
   "id": "d2f1801d",
   "metadata": {},
   "outputs": [],
   "source": [
    "# ==========================\n",
    "# Initial config\n",
    "# ==========================\n",
    "\n",
    "MODEL_ID = \"MIT/ast-finetuned-audioset-10-10-0.4593\"\n",
    "CSV_PATH = \"./audio_data/complete_metadata.csv\"   \n",
    "AUDIO_COL = \"Path\"      \n",
    "LABEL_COL = \"Emotion\"\n",
    "\n",
    "# Labels\n",
    "labels = [\"Angry\", \"Happy\", \"Fearful\", \"Sad\", \"Disgust\", \"Neutral\"]\n",
    "num_labels = len(labels)\n",
    "\n",
    "device = torch.device(\"cuda\" if torch.cuda.is_available() else \"cpu\")"
   ]
  },
  {
   "cell_type": "markdown",
   "id": "e8627716",
   "metadata": {},
   "source": [
    "We will not perform here data augmentation, so we just load the paths from the recordings and divide the dataset into train and test. Like with the other models, we leave out 'Calm' and 'Surprised' emotions."
   ]
  },
  {
   "cell_type": "code",
   "execution_count": 3,
   "id": "6418e3f1",
   "metadata": {},
   "outputs": [],
   "source": [
    "# Load paths\n",
    "audios = pd.read_csv(CSV_PATH)\n",
    "audios = audios[~((audios[LABEL_COL] == 'Calm') | (audios[LABEL_COL] == 'Surprised'))]\n",
    "audios = audios.rename(mapper={'Path': 'file', 'Emotion':'labels'}, axis=1)\n",
    "audios = audios.drop(columns=['Dataset', 'Emotional_level'], errors='ignore')\n",
    "\n",
    "dataset = Dataset.from_pandas(audios)\n",
    "\n",
    "# Split\n",
    "dataset = dataset.train_test_split(test_size=0.2, seed=SEED)\n",
    "dataset = DatasetDict({\n",
    "    \"train\": dataset[\"train\"].train_test_split(test_size=0.2, seed=SEED)[\"train\"],\n",
    "    \"test\": dataset[\"test\"]\n",
    "})"
   ]
  },
  {
   "cell_type": "markdown",
   "id": "e405aca9",
   "metadata": {},
   "source": [
    "## Preprocessing"
   ]
  },
  {
   "cell_type": "markdown",
   "id": "7e456807",
   "metadata": {},
   "source": [
    "Now we preprocess the data. It is fairly simple. We use the automatic feature extractor from Hugging Face after applying an audio transformation (using sampling rate of 16kHz, which is a requirement for this model)."
   ]
  },
  {
   "cell_type": "code",
   "execution_count": 4,
   "id": "09d9b919",
   "metadata": {},
   "outputs": [],
   "source": [
    "# Turn to audio files all paths from the dataset\n",
    "dataset = dataset.cast_column(\"file\", Audio(sampling_rate=16000))\n",
    "\n",
    "# Feature extractor\n",
    "extractor = AutoFeatureExtractor.from_pretrained(MODEL_ID)"
   ]
  },
  {
   "cell_type": "code",
   "execution_count": 5,
   "id": "e770e7a1",
   "metadata": {},
   "outputs": [
    {
     "name": "stderr",
     "output_type": "stream",
     "text": [
      "Map: 100%|██████████| 6097/6097 [01:43<00:00, 59.00 examples/s]\n",
      "Map: 100%|██████████| 1906/1906 [00:29<00:00, 64.49 examples/s]\n"
     ]
    }
   ],
   "source": [
    "def preprocess(batch: dict) -> dict:\n",
    "    \"\"\"\n",
    "    Preprocess a batch element by extracting input features from raw audio.\n",
    "\n",
    "    Steps:\n",
    "        - Load raw audio from the batch.\n",
    "        - Use the feature extractor to process the waveform.\n",
    "        - Add extracted input values back into the batch.\n",
    "\n",
    "    Args:\n",
    "        batch: Dictionary containing:\n",
    "            - \"file\": A dictionary with keys:\n",
    "                - \"array\": The raw audio waveform (NumPy array).\n",
    "                - \"sampling_rate\": Sampling rate of the audio.\n",
    "\n",
    "    Returns:\n",
    "        dict: Updated batch with an additional key:\n",
    "            - \"input_values\": Extracted input features for the model.\n",
    "    \"\"\"\n",
    "    audio = batch[\"file\"]\n",
    "\n",
    "    # Extract input features using the global extractor\n",
    "    inputs = extractor(audio[\"array\"], sampling_rate=audio[\"sampling_rate\"])\n",
    "\n",
    "    # Store the first feature array in the batch\n",
    "    batch[\"input_values\"] = inputs[\"input_values\"][0]\n",
    "\n",
    "    return batch\n",
    "\n",
    "dataset = dataset.map(preprocess, remove_columns=[\"file\"])"
   ]
  },
  {
   "cell_type": "markdown",
   "id": "2e5fbe4f",
   "metadata": {},
   "source": [
    "Now we prepare the labels for the training. This model requires integer labels, so we apply the ClassLabel method from datasets."
   ]
  },
  {
   "cell_type": "code",
   "execution_count": 6,
   "id": "6fa033d8",
   "metadata": {},
   "outputs": [
    {
     "name": "stderr",
     "output_type": "stream",
     "text": [
      "Casting the dataset: 100%|██████████| 6097/6097 [00:01<00:00, 5151.58 examples/s] \n",
      "Casting the dataset: 100%|██████████| 1906/1906 [00:00<00:00, 25531.00 examples/s]\n"
     ]
    }
   ],
   "source": [
    "all_labels = sorted(dataset[\"train\"].unique(\"labels\"))\n",
    "dataset = dataset.cast_column(\"labels\", ClassLabel(names=all_labels))\n",
    "\n",
    "id2label = {i: l for i, l in enumerate(dataset[\"train\"].features[\"labels\"].names)}\n",
    "label2id = {l: i for i, l in enumerate(dataset[\"train\"].features[\"labels\"].names)}"
   ]
  },
  {
   "cell_type": "markdown",
   "id": "30f85384",
   "metadata": {},
   "source": [
    "## Load the model"
   ]
  },
  {
   "cell_type": "markdown",
   "id": "f88f14d1",
   "metadata": {},
   "source": [
    "We prepare the model for fine-tuning."
   ]
  },
  {
   "cell_type": "code",
   "execution_count": 7,
   "id": "70116893",
   "metadata": {},
   "outputs": [
    {
     "name": "stderr",
     "output_type": "stream",
     "text": [
      "Some weights of ASTForAudioClassification were not initialized from the model checkpoint at MIT/ast-finetuned-audioset-10-10-0.4593 and are newly initialized because the shapes did not match:\n",
      "- classifier.dense.bias: found shape torch.Size([527]) in the checkpoint and torch.Size([6]) in the model instantiated\n",
      "- classifier.dense.weight: found shape torch.Size([527, 768]) in the checkpoint and torch.Size([6, 768]) in the model instantiated\n",
      "You should probably TRAIN this model on a down-stream task to be able to use it for predictions and inference.\n"
     ]
    }
   ],
   "source": [
    "model = ASTForAudioClassification.from_pretrained(\n",
    "    \"MIT/ast-finetuned-audioset-10-10-0.4593\",\n",
    "    num_labels=len(id2label),\n",
    "    id2label=id2label,\n",
    "    label2id=label2id,\n",
    "    ignore_mismatched_sizes=True\n",
    ")\n",
    "\n",
    "# Helps save VRAM\n",
    "model.gradient_checkpointing_enable()\n",
    "model.config.use_cache = False"
   ]
  },
  {
   "cell_type": "markdown",
   "id": "4d743abb",
   "metadata": {},
   "source": [
    "Let's get ready for the training. We have to define a data collator to help the model process the audios. Also, we need to define the metrics that will be looked up to determine if we are in the right path while training. \n",
    "\n",
    "For the data collator, it is not necessary to define it as a class."
   ]
  },
  {
   "cell_type": "code",
   "execution_count": 8,
   "id": "a9450900",
   "metadata": {},
   "outputs": [],
   "source": [
    "class DataCollatorAST:\n",
    "    \"\"\"\n",
    "    Data collator for preparing batches of audio spectrogram features.\n",
    "\n",
    "    This class is designed to:\n",
    "        - Convert input feature arrays into float tensors.\n",
    "        - Pad input sequences to the maximum length in the batch.\n",
    "        - Convert labels into a long tensor.\n",
    "\n",
    "    Returns a dictionary ready for model consumption.\n",
    "    \"\"\"\n",
    "\n",
    "    def __call__(self, features: list[dict]) -> dict[str, torch.Tensor]:\n",
    "        \"\"\"\n",
    "        Collate a batch of features into padded tensors.\n",
    "\n",
    "        Args:\n",
    "            features: List of dictionaries, each containing:\n",
    "                - \"input_values\": Input feature array (1D or 2D sequence).\n",
    "                - \"labels\": Integer label.\n",
    "\n",
    "        Returns:\n",
    "            dict: A dictionary with:\n",
    "                - \"input_values\": Float tensor of shape [batch_size, max_seq_len, ...],\n",
    "                  padded with zeros.\n",
    "                - \"labels\": Long tensor of shape [batch_size].\n",
    "        \"\"\"\n",
    "        # Convert input values to float tensors\n",
    "        input_values = [\n",
    "            torch.tensor(f[\"input_values\"], dtype=torch.float32) for f in features\n",
    "        ]\n",
    "\n",
    "        # Convert labels to a long tensor\n",
    "        labels = torch.tensor([f[\"labels\"] for f in features], dtype=torch.long)\n",
    "\n",
    "        # Pad input sequences to the maximum length in the batch\n",
    "        input_values = torch.nn.utils.rnn.pad_sequence(\n",
    "            input_values, batch_first=True, padding_value=0.0\n",
    "        )\n",
    "\n",
    "        return {\"input_values\": input_values, \"labels\": labels}\n",
    "\n",
    "\n",
    "data_collator = DataCollatorAST()"
   ]
  },
  {
   "cell_type": "markdown",
   "id": "d4989680",
   "metadata": {},
   "source": [
    "Finally, we give the trainer all parameters necessary."
   ]
  },
  {
   "cell_type": "code",
   "execution_count": 9,
   "id": "4437b3a1",
   "metadata": {},
   "outputs": [
    {
     "name": "stderr",
     "output_type": "stream",
     "text": [
      "C:\\Users\\faler\\AppData\\Local\\Temp\\ipykernel_17760\\585708512.py:57: FutureWarning: `tokenizer` is deprecated and will be removed in version 5.0.0 for `Trainer.__init__`. Use `processing_class` instead.\n",
      "  trainer = Trainer(\n"
     ]
    }
   ],
   "source": [
    "# ------------------------------\n",
    "# TrainingArguments\n",
    "# ------------------------------\n",
    "training_args = TrainingArguments(\n",
    "    output_dir=\"./ast-emotion\",\n",
    "    eval_strategy=\"epoch\",\n",
    "    save_strategy=\"epoch\",\n",
    "    learning_rate=5e-5,\n",
    "    per_device_train_batch_size=32,\n",
    "    per_device_eval_batch_size=32,\n",
    "    num_train_epochs=10,\n",
    "    warmup_ratio=0.1,\n",
    "    logging_steps=50,\n",
    "    load_best_model_at_end=True,\n",
    "    metric_for_best_model=\"f1\",\n",
    "    fp16=True,                       # mixed precision\n",
    "    remove_unused_columns=False,     # avoid forward errors\n",
    "    dataloader_pin_memory=True,\n",
    "    report_to=\"none\"\n",
    ")\n",
    "\n",
    "# ------------------------------\n",
    "# Metrics\n",
    "# ------------------------------\n",
    "def compute_metrics(eval_pred: tuple[np.ndarray, np.ndarray]) -> dict[str, float]:\n",
    "    \"\"\"\n",
    "    Compute evaluation metrics for classification tasks.\n",
    "\n",
    "    Metrics:\n",
    "        - Accuracy\n",
    "        - Weighted F1 score\n",
    "\n",
    "    Args:\n",
    "        eval_pred: Tuple containing:\n",
    "            - logits: NumPy array of shape [num_samples, num_classes].\n",
    "            - labels: NumPy array of shape [num_samples].\n",
    "\n",
    "    Returns:\n",
    "        dict: A dictionary with:\n",
    "            - \"accuracy\": Accuracy score.\n",
    "            - \"f1\": Weighted F1 score.\n",
    "    \"\"\"\n",
    "    logits, labels = eval_pred\n",
    "\n",
    "    # Get predicted class indices from logits\n",
    "    preds = np.argmax(logits, axis=-1)\n",
    "\n",
    "    # Compute accuracy and F1 score\n",
    "    return {\n",
    "        \"accuracy\": accuracy_score(labels, preds),\n",
    "        \"f1\": f1_score(labels, preds, average=\"weighted\"),\n",
    "    }\n",
    "\n",
    "# ------------------------------\n",
    "# Trainer\n",
    "# ------------------------------\n",
    "trainer = Trainer(\n",
    "    model=model,\n",
    "    args=training_args,\n",
    "    train_dataset=dataset[\"train\"],\n",
    "    eval_dataset=dataset[\"test\"],\n",
    "    tokenizer=extractor,\n",
    "    data_collator=data_collator,\n",
    "    compute_metrics=compute_metrics,\n",
    ")"
   ]
  },
  {
   "cell_type": "code",
   "execution_count": 10,
   "id": "95ed6ffa",
   "metadata": {},
   "outputs": [
    {
     "name": "stderr",
     "output_type": "stream",
     "text": [
      "c:\\Users\\faler\\anaconda3\\envs\\tfm_audio\\lib\\site-packages\\transformers\\integrations\\sdpa_attention.py:89: UserWarning: 1Torch was not compiled with flash attention. (Triggered internally at ..\\aten\\src\\ATen\\native\\transformers\\cuda\\sdp_utils.cpp:263.)\n",
      "  attn_output = torch.nn.functional.scaled_dot_product_attention(\n"
     ]
    },
    {
     "data": {
      "text/html": [
       "\n",
       "    <div>\n",
       "      \n",
       "      <progress value='1910' max='1910' style='width:300px; height:20px; vertical-align: middle;'></progress>\n",
       "      [1910/1910 2:31:33, Epoch 10/10]\n",
       "    </div>\n",
       "    <table border=\"1\" class=\"dataframe\">\n",
       "  <thead>\n",
       " <tr style=\"text-align: left;\">\n",
       "      <th>Epoch</th>\n",
       "      <th>Training Loss</th>\n",
       "      <th>Validation Loss</th>\n",
       "      <th>Accuracy</th>\n",
       "      <th>F1</th>\n",
       "    </tr>\n",
       "  </thead>\n",
       "  <tbody>\n",
       "    <tr>\n",
       "      <td>1</td>\n",
       "      <td>1.252900</td>\n",
       "      <td>1.281304</td>\n",
       "      <td>0.523085</td>\n",
       "      <td>0.472612</td>\n",
       "    </tr>\n",
       "    <tr>\n",
       "      <td>2</td>\n",
       "      <td>0.976400</td>\n",
       "      <td>1.158995</td>\n",
       "      <td>0.566107</td>\n",
       "      <td>0.554646</td>\n",
       "    </tr>\n",
       "    <tr>\n",
       "      <td>3</td>\n",
       "      <td>0.563800</td>\n",
       "      <td>1.013968</td>\n",
       "      <td>0.654250</td>\n",
       "      <td>0.645437</td>\n",
       "    </tr>\n",
       "    <tr>\n",
       "      <td>4</td>\n",
       "      <td>0.251600</td>\n",
       "      <td>1.169186</td>\n",
       "      <td>0.667891</td>\n",
       "      <td>0.663116</td>\n",
       "    </tr>\n",
       "    <tr>\n",
       "      <td>5</td>\n",
       "      <td>0.088800</td>\n",
       "      <td>1.381479</td>\n",
       "      <td>0.666317</td>\n",
       "      <td>0.659371</td>\n",
       "    </tr>\n",
       "    <tr>\n",
       "      <td>6</td>\n",
       "      <td>0.046500</td>\n",
       "      <td>1.590088</td>\n",
       "      <td>0.681532</td>\n",
       "      <td>0.678337</td>\n",
       "    </tr>\n",
       "    <tr>\n",
       "      <td>7</td>\n",
       "      <td>0.021600</td>\n",
       "      <td>1.760479</td>\n",
       "      <td>0.672088</td>\n",
       "      <td>0.672916</td>\n",
       "    </tr>\n",
       "    <tr>\n",
       "      <td>8</td>\n",
       "      <td>0.001500</td>\n",
       "      <td>1.777339</td>\n",
       "      <td>0.694124</td>\n",
       "      <td>0.692521</td>\n",
       "    </tr>\n",
       "    <tr>\n",
       "      <td>9</td>\n",
       "      <td>0.000200</td>\n",
       "      <td>1.763265</td>\n",
       "      <td>0.693599</td>\n",
       "      <td>0.693948</td>\n",
       "    </tr>\n",
       "    <tr>\n",
       "      <td>10</td>\n",
       "      <td>0.000100</td>\n",
       "      <td>1.767331</td>\n",
       "      <td>0.698846</td>\n",
       "      <td>0.698514</td>\n",
       "    </tr>\n",
       "  </tbody>\n",
       "</table><p>"
      ],
      "text/plain": [
       "<IPython.core.display.HTML object>"
      ]
     },
     "metadata": {},
     "output_type": "display_data"
    },
    {
     "data": {
      "text/plain": [
       "TrainOutput(global_step=1910, training_loss=0.33943406536758275, metrics={'train_runtime': 9103.9318, 'train_samples_per_second': 6.697, 'train_steps_per_second': 0.21, 'total_flos': 4.1328672387209626e+18, 'train_loss': 0.33943406536758275, 'epoch': 10.0})"
      ]
     },
     "execution_count": 10,
     "metadata": {},
     "output_type": "execute_result"
    }
   ],
   "source": [
    "trainer.train()"
   ]
  },
  {
   "cell_type": "markdown",
   "id": "08b20e8f",
   "metadata": {},
   "source": [
    "## Results"
   ]
  },
  {
   "cell_type": "markdown",
   "id": "e70e600c",
   "metadata": {},
   "source": [
    "Following previous studies as in with ML and DL, we plot the confusion matrix and the classification report."
   ]
  },
  {
   "cell_type": "code",
   "execution_count": 11,
   "id": "8e22abba",
   "metadata": {},
   "outputs": [
    {
     "data": {
      "text/html": [],
      "text/plain": [
       "<IPython.core.display.HTML object>"
      ]
     },
     "metadata": {},
     "output_type": "display_data"
    },
    {
     "name": "stdout",
     "output_type": "stream",
     "text": [
      "{'eval_loss': 1.7673306465148926, 'eval_accuracy': 0.6988457502623295, 'eval_f1': 0.6985141865049912, 'eval_runtime': 130.2901, 'eval_samples_per_second': 14.629, 'eval_steps_per_second': 0.461, 'epoch': 10.0}\n"
     ]
    }
   ],
   "source": [
    "results = trainer.evaluate(dataset[\"test\"])\n",
    "print(results)"
   ]
  },
  {
   "cell_type": "code",
   "execution_count": 12,
   "id": "87e38d56",
   "metadata": {},
   "outputs": [
    {
     "name": "stdout",
     "output_type": "stream",
     "text": [
      "              precision    recall  f1-score   support\n",
      "\n",
      "       Angry       0.83      0.80      0.81       334\n",
      "     Disgust       0.67      0.66      0.66       319\n",
      "     Fearful       0.64      0.65      0.64       325\n",
      "       Happy       0.70      0.72      0.71       316\n",
      "     Neutral       0.72      0.78      0.75       258\n",
      "         Sad       0.65      0.61      0.63       354\n",
      "\n",
      "    accuracy                           0.70      1906\n",
      "   macro avg       0.70      0.70      0.70      1906\n",
      "weighted avg       0.70      0.70      0.70      1906\n",
      "\n"
     ]
    },
    {
     "data": {
      "image/png": "[encoded data removed]",
      "text/plain": [
       "<Figure size 640x480 with 2 Axes>"
      ]
     },
     "metadata": {},
     "output_type": "display_data"
    }
   ],
   "source": [
    "# ==========================\n",
    "# Confusion matrix\n",
    "# ==========================\n",
    "preds = trainer.predict(dataset[\"test\"])\n",
    "y_true = preds.label_ids\n",
    "y_pred = np.argmax(preds.predictions, axis=1)\n",
    "\n",
    "cm = confusion_matrix(y_true, y_pred)\n",
    "\n",
    "# Report\n",
    "print(classification_report(y_true, y_pred, target_names=[id2label[i] for i in range(len(id2label))]))\n",
    "\n",
    "# Plot\n",
    "sns.heatmap(\n",
    "    cm,\n",
    "    annot=True,\n",
    "    fmt=\"d\",\n",
    "    cmap=\"Greys\",\n",
    "    xticklabels=[id2label[i] for i in range(len(id2label))],\n",
    "    yticklabels=[id2label[i] for i in range(len(id2label))]\n",
    ")\n",
    "plt.xlabel(\"Predicted label\")\n",
    "plt.ylabel(\"True label\")\n",
    "plt.title(\"Confusion Matrix\")\n",
    "plt.show()\n"
   ]
  },
  {
   "cell_type": "markdown",
   "id": "dd6ad8ee",
   "metadata": {},
   "source": [
    "We save the model in case we want to reconstruct it."
   ]
  },
  {
   "cell_type": "code",
   "execution_count": 13,
   "id": "78ad960a",
   "metadata": {},
   "outputs": [],
   "source": [
    "model.save_pretrained(\"models/ast-classifier\")"
   ]
  },
  {
   "cell_type": "markdown",
   "id": "9b78eef8",
   "metadata": {},
   "source": [
    "In short, the model shows average accuracy of 70%, which improves the results for ML and DL models. It is better than them and although it makes some mistakes, generally it classifies well."
   ]
  }
 ],
 "metadata": {
  "kernelspec": {
   "display_name": "tfm_audio",
   "language": "python",
   "name": "python3"
  },
  "language_info": {
   "codemirror_mode": {
    "name": "ipython",
    "version": 3
   },
   "file_extension": ".py",
   "mimetype": "text/x-python",
   "name": "python",
   "nbconvert_exporter": "python",
   "pygments_lexer": "ipython3",
   "version": "3.10.18"
  }
 },
 "nbformat": 4,
 "nbformat_minor": 5
}
